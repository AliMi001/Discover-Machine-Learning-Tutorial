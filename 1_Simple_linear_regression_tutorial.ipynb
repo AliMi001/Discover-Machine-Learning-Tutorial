{
  "nbformat": 4,
  "nbformat_minor": 0,
  "metadata": {
    "colab": {
      "provenance": []
    },
    "kernelspec": {
      "name": "python3",
      "display_name": "Python 3"
    },
    "language_info": {
      "name": "python"
    }
  },
  "cells": [
    {
      "cell_type": "markdown",
      "source": [
        "This tutorial explains simple linear regression. While it was originally done using a spreadsheet (as shown in the link below), we will implement it using the NumPy and matplotlib libraries.\n",
        "\n",
        "https://machinelearningmastery.com/simple-linear-regression-tutorial-for-machine-learning/\n"
      ],
      "metadata": {
        "id": "cQMaCa9HjKtE"
      }
    },
    {
      "cell_type": "code",
      "source": [
        "import matplotlib.pyplot as plt\n",
        "import numpy as np"
      ],
      "metadata": {
        "id": "ogFisM-uE9OO"
      },
      "execution_count": 1,
      "outputs": []
    },
    {
      "cell_type": "markdown",
      "source": [
        "# Data set\n",
        "The data set we are using is completely made up. Below is the raw data.\n",
        "The attribute x is the input variable and y is the output variable that we are trying to\n",
        "predict."
      ],
      "metadata": {
        "id": "hhjxLOPPTjei"
      }
    },
    {
      "cell_type": "code",
      "execution_count": 2,
      "metadata": {
        "id": "bjUyK7nvzEJW"
      },
      "outputs": [],
      "source": [
        "x = np.array([1, 2, 4, 3, 5])\n",
        "y = np.array([1, 3, 3, 2, 5])"
      ]
    },
    {
      "cell_type": "code",
      "source": [
        "plt.scatter(x, y,marker='D', label='y')\n",
        "plt.title('x versus y')\n",
        "# plt.legend()\n",
        "plt.grid(True)\n",
        "plt.show()"
      ],
      "metadata": {
        "colab": {
          "base_uri": "https://localhost:8080/",
          "height": 452
        },
        "id": "PxfT53uHSXw8",
        "outputId": "7cb21396-96d9-4c17-8165-f362d97a1b75"
      },
      "execution_count": 4,
      "outputs": [
        {
          "output_type": "display_data",
          "data": {
            "text/plain": [
              "<Figure size 640x480 with 1 Axes>"
            ],
            "image/png": "[encoded data removed]"
          },
          "metadata": {}
        }
      ]
    },
    {
      "cell_type": "markdown",
      "source": [
        "# Simple Linear Regression\n",
        "\n",
        "*   Simple Linear Regression: sed when there's a single input attribute ($x$) to predict an output ($y$).\n",
        "\n",
        "*   Model Equation: $y = \\beta_0 + \\beta_1x$.\n",
        "\n",
        "$\\beta_0$ : the intercept (or bias) determining where the line crosses the y-axis.\n",
        "\n",
        "$\\beta_1$ : the slope, indicating how changes in x affect y.\n",
        "\n",
        "*   Objective: The goal is to estimate $\\beta_0$ and $\\beta_1$ to minimize prediction errors\n",
        "\n",
        "*   Coefficient Estimation:\n",
        "\n",
        "$\\beta_1$:calculated using the covariance of $x$ and $y$ over the variance of $x$.\n",
        "\n",
        "$\\beta_1 = \\frac{\\sum_{i=1}^{n} (x_i - \\bar{x})(y_i - \\bar{y})}{\\sum_{i=1}^{n} (x_i - \\bar{x})^2}$\n",
        "\n",
        "$\\beta_0$:calculated using the covariance of $x$ $y$ and $\\beta_1$.\n",
        "\n",
        "$\\beta_0 = \\bar{y} - \\beta_1\\bar{x}$"
      ],
      "metadata": {
        "id": "s16-52mNmIdX"
      }
    },
    {
      "cell_type": "markdown",
      "source": [
        "**Estimating the slope $\\beta_1$**"
      ],
      "metadata": {
        "id": "YA8G5lqOy1Us"
      }
    },
    {
      "cell_type": "markdown",
      "source": [
        "$\\bar{x} = \\frac{\\sum_{i=1}^{n} x_i}{n}$"
      ],
      "metadata": {
        "id": "uAaD19aWDKF4"
      }
    },
    {
      "cell_type": "code",
      "source": [
        "mean_x = np.mean(x)\n",
        "print(mean_x)"
      ],
      "metadata": {
        "colab": {
          "base_uri": "https://localhost:8080/"
        },
        "id": "oLRfwyv44dv2",
        "outputId": "c1a7a63f-9f25-4f38-f39f-5b1267605599"
      },
      "execution_count": 5,
      "outputs": [
        {
          "output_type": "stream",
          "name": "stdout",
          "text": [
            "3.0\n"
          ]
        }
      ]
    },
    {
      "cell_type": "markdown",
      "source": [
        "$\\bar{y} = \\frac{\\sum_{i=1}^{n} y_i}{n}$"
      ],
      "metadata": {
        "id": "mbhtSIrpDkOi"
      }
    },
    {
      "cell_type": "code",
      "source": [
        "mean_y = np.mean(y)\n",
        "print(mean_y)"
      ],
      "metadata": {
        "colab": {
          "base_uri": "https://localhost:8080/"
        },
        "id": "BDhX1VJ4DhQK",
        "outputId": "80c5d8df-ca40-4558-f5fb-2f3315af3103"
      },
      "execution_count": 6,
      "outputs": [
        {
          "output_type": "stream",
          "name": "stdout",
          "text": [
            "2.8\n"
          ]
        }
      ]
    },
    {
      "cell_type": "code",
      "source": [
        "beta_1 = np.sum((x - mean_x) * (y - mean_y)) / np.sum((x - mean_x)**2)\n",
        "print(beta_1)"
      ],
      "metadata": {
        "colab": {
          "base_uri": "https://localhost:8080/"
        },
        "id": "borhHkwHEEF-",
        "outputId": "d16dab4b-3684-43e8-dc4b-77e79c7c741c"
      },
      "execution_count": 7,
      "outputs": [
        {
          "output_type": "stream",
          "name": "stdout",
          "text": [
            "0.8\n"
          ]
        }
      ]
    },
    {
      "cell_type": "markdown",
      "source": [
        "**Estimating the intercept (bias) $\\beta_0$**"
      ],
      "metadata": {
        "id": "82eBz_SkzXgh"
      }
    },
    {
      "cell_type": "markdown",
      "source": [
        "$\\beta_0 = \\bar{y} - \\beta_1\\bar{x}$\n"
      ],
      "metadata": {
        "id": "G7JwAhJQ44U4"
      }
    },
    {
      "cell_type": "code",
      "source": [
        "beta_0 = mean_y - beta_1 * mean_x\n",
        "print(beta_0)"
      ],
      "metadata": {
        "colab": {
          "base_uri": "https://localhost:8080/"
        },
        "id": "2AyTb75fEOfr",
        "outputId": "2d47dd89-425c-43c8-8bb6-981c46ff555e"
      },
      "execution_count": 8,
      "outputs": [
        {
          "output_type": "stream",
          "name": "stdout",
          "text": [
            "0.39999999999999947\n"
          ]
        }
      ]
    },
    {
      "cell_type": "markdown",
      "source": [
        "# Making predictions:"
      ],
      "metadata": {
        "id": "h98vVIhGz2ps"
      }
    },
    {
      "cell_type": "code",
      "source": [
        "predictions = beta_0 + beta_1 * x\n",
        "print(predictions)"
      ],
      "metadata": {
        "colab": {
          "base_uri": "https://localhost:8080/"
        },
        "id": "x7SKjw85F83g",
        "outputId": "9b24cd80-33a2-4dc2-b6cd-ee51617a8d96"
      },
      "execution_count": 9,
      "outputs": [
        {
          "output_type": "stream",
          "name": "stdout",
          "text": [
            "[1.2 2.  3.6 2.8 4.4]\n"
          ]
        }
      ]
    },
    {
      "cell_type": "code",
      "source": [
        "x_line = np.linspace(np.min(x), np.max(x), 100)\n",
        "y_line = beta_0 + beta_1 * x_line"
      ],
      "metadata": {
        "id": "cxAUjOvpEV83"
      },
      "execution_count": 10,
      "outputs": []
    },
    {
      "cell_type": "code",
      "source": [
        "plt.scatter(x, y, label='y')\n",
        "plt.plot(x_line, y_line, color='red', label='Linear (Predicted y)')\n",
        "plt.scatter(x, predictions, marker='s', color='green',label='Predicted y' )\n",
        "plt.xlabel(\"x\")\n",
        "plt.ylabel(\"y\")\n",
        "plt.legend()\n",
        "plt.grid(True)\n",
        "plt.show()"
      ],
      "metadata": {
        "colab": {
          "base_uri": "https://localhost:8080/",
          "height": 449
        },
        "id": "Vjij9-GlFVfF",
        "outputId": "6b625447-4416-45e4-b80c-4419cfa685e0"
      },
      "execution_count": 11,
      "outputs": [
        {
          "output_type": "display_data",
          "data": {
            "text/plain": [
              "<Figure size 640x480 with 1 Axes>"
            ],
            "image/png": "[encoded data removed]"
          },
          "metadata": {}
        }
      ]
    },
    {
      "cell_type": "markdown",
      "source": [
        "# Estimating Error\n"
      ],
      "metadata": {
        "id": "ekyjOlV4zso3"
      }
    },
    {
      "cell_type": "markdown",
      "source": [
        "We can calculate an error score for our predictions called the Root Mean Squared Error or\n",
        "RMSE:\n",
        "\n",
        "$RMSE = \\sqrt{\\frac{1}{n} \\sum_{i=1}^{n} (y_i - \\hat{y}_i)^2}$"
      ],
      "metadata": {
        "id": "a6GdM65OJKjp"
      }
    },
    {
      "cell_type": "code",
      "source": [
        "rmse = np.sqrt(np.mean((y - predictions)**2))\n",
        "print(rmse)"
      ],
      "metadata": {
        "colab": {
          "base_uri": "https://localhost:8080/"
        },
        "id": "gp3zyESYJe67",
        "outputId": "ec7d4607-ac64-4f45-f92f-457ac867718a"
      },
      "execution_count": 12,
      "outputs": [
        {
          "output_type": "stream",
          "name": "stdout",
          "text": [
            "0.692820323027551\n"
          ]
        }
      ]
    },
    {
      "cell_type": "markdown",
      "source": [
        "Each prediction is on average wrong by about 0.692 units.\n"
      ],
      "metadata": {
        "id": "SmxdlNUSujAu"
      }
    },
    {
      "cell_type": "markdown",
      "source": [
        "# Shortcut\n",
        "\n",
        "Quick Shortcut: For simple linear regression, there's a shortcut to estimate $\\beta_1, the slope.\n",
        "\n",
        "Shortcut Formula:\n",
        "\n",
        "$\\beta_1 = \\rho(x,y) * (\\frac{\\sigma(y)}{\\sigma(x)})$\n",
        "\n",
        "*  $\\rho(x,y)$: or corr(x, y) (aka pearson correlation coeff) is the correlation between x and y, indicating how related they are in the range of -1 to 1.\n",
        "\n",
        "*  $\\sigma$: or stdev() is the standard deviation, showing how spread out the data is from the mean."
      ],
      "metadata": {
        "id": "NARkOxWouvGZ"
      }
    },
    {
      "cell_type": "code",
      "source": [
        "correlation = np.corrcoef(x, y)[0, 1]\n",
        "print(correlation)\n",
        "std_y= np.std(y, ddof=1)\n",
        "std_x= np.std(x, ddof=1)\n",
        "\n",
        "beta_1 = correlation * (std_y / std_x)\n",
        "\n",
        "print(beta_1)"
      ],
      "metadata": {
        "colab": {
          "base_uri": "https://localhost:8080/"
        },
        "id": "TvQO7x9U1jBG",
        "outputId": "aa9d7202-a8c8-4407-eaf7-426671f4f3f8"
      },
      "execution_count": 13,
      "outputs": [
        {
          "output_type": "stream",
          "name": "stdout",
          "text": [
            "0.8528028654224418\n",
            "0.7999999999999999\n"
          ]
        }
      ]
    },
    {
      "cell_type": "markdown",
      "source": [
        "The issue is that np.std() by default calculates the population standard deviation. To get the sample standard deviation, you need to set the ddof parameter to 1."
      ],
      "metadata": {
        "id": "HhB0cG3d3D9m"
      }
    },
    {
      "cell_type": "markdown",
      "source": [
        "The difference lies in how the standard deviation is calculated:\n",
        "\n",
        "Default (ddof=0): This calculates the population standard deviation. It assumes that your data represents the entire population. The formula divides the sum of squared differences by the number of data points (N).\n",
        "\n",
        "ddof=1: This calculates the sample standard deviation. It assumes your data is a sample from a larger population. The formula divides the sum of squared differences by the number of data points minus 1 (N-1). This is known as Bessel's correction and provides an unbiased estimate of the population standard deviation."
      ],
      "metadata": {
        "id": "Rry8tf9a3ZhE"
      }
    }
  ]
}